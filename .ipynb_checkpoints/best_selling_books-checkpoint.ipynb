{
 "cells": [
  {
   "cell_type": "markdown",
   "id": "e7131214-c0a7-44ac-8fd5-726cee638efa",
   "metadata": {},
   "source": [
    "# Analyzing Best Selling Books - Data Visualization Portfolio Project"
   ]
  },
  {
   "cell_type": "markdown",
   "id": "b2eb8600-2451-4b79-b92e-8cdc482b847d",
   "metadata": {},
   "source": [
    "This project focuses on analyzing the data of the most popular books based on global sales through a series of visualizations. We'll look to identify patterns and insights on authors, genres, publisher trends, and consumer behavior."
   ]
  },
  {
   "cell_type": "markdown",
   "id": "4d7fb8d4-db4f-4a20-8202-4ef62c844625",
   "metadata": {},
   "source": [
    "#### Questions\n",
    "We will be working with a list of world best-selling books that focuses on their sales volume and realted details  to answer the following questions:\n",
    "- Which publishers have the most books on the list?\n",
    "- What are the most popular genres?\n",
    "- Do some genres tend to sell more copies on average than others?\n",
    "- Is there a correlation between the number of best-selling books and author has and their total sales?"
   ]
  },
  {
   "cell_type": "markdown",
   "id": "61456a96-6d11-4c7b-a86a-4d5bd95e20d0",
   "metadata": {},
   "source": [
    "## Import Libraries"
   ]
  },
  {
   "cell_type": "code",
   "execution_count": null,
   "id": "2bb10452-ae06-4749-8d52-d78d2a94784f",
   "metadata": {},
   "outputs": [],
   "source": [
    "import pandas as pd\n",
    "import matplotlib.pyplot as plt\n",
    "import seaborn as sns"
   ]
  },
  {
   "cell_type": "markdown",
   "id": "bcadfc50-2ebb-4d12-a7bd-e0636210a3a1",
   "metadata": {},
   "source": [
    "## Load and Inspect Data"
   ]
  },
  {
   "cell_type": "code",
   "execution_count": null,
   "id": "cbc455a7-9ac0-4c4a-9698-fec2376f6c26",
   "metadata": {},
   "outputs": [],
   "source": []
  },
  {
   "cell_type": "markdown",
   "id": "49c87727-75c6-49cd-aecf-cb56276e7613",
   "metadata": {},
   "source": [
    "## Data Cleaning & Preparation"
   ]
  },
  {
   "cell_type": "code",
   "execution_count": null,
   "id": "5935f010-e076-4453-81b9-611855449dff",
   "metadata": {},
   "outputs": [],
   "source": []
  },
  {
   "cell_type": "markdown",
   "id": "abeaa418-065c-42bc-b74b-46d73bf1a80a",
   "metadata": {},
   "source": [
    "## Data Visualizations"
   ]
  },
  {
   "cell_type": "code",
   "execution_count": null,
   "id": "b828245c-a7b8-437d-a699-1ef86d0d0b1a",
   "metadata": {},
   "outputs": [],
   "source": []
  }
 ],
 "metadata": {
  "kernelspec": {
   "display_name": "Python 3 (ipykernel)",
   "language": "python",
   "name": "python3"
  },
  "language_info": {
   "codemirror_mode": {
    "name": "ipython",
    "version": 3
   },
   "file_extension": ".py",
   "mimetype": "text/x-python",
   "name": "python",
   "nbconvert_exporter": "python",
   "pygments_lexer": "ipython3",
   "version": "3.9.21"
  }
 },
 "nbformat": 4,
 "nbformat_minor": 5
}
